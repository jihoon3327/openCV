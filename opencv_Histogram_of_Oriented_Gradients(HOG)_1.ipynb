{
 "cells": [
  {
   "cell_type": "code",
   "execution_count": 1,
   "id": "fcd2ad2e",
   "metadata": {},
   "outputs": [],
   "source": [
    "import sys\n",
    "import random\n",
    "import numpy as np\n",
    "import cv2\n",
    "from PIL import Image as im\n",
    "from IPython.display import clear_output"
   ]
  },
  {
   "cell_type": "code",
   "execution_count": 2,
   "id": "7f62d21b",
   "metadata": {},
   "outputs": [],
   "source": [
    "#동영상 불러오기\n",
    "cap = cv2.VideoCapture('/Users/jungjihoon/Library/Mobile Documents/com~apple~CloudDocs/00_DataScience/민형기/vtest.avi')"
   ]
  },
  {
   "cell_type": "code",
   "execution_count": 3,
   "id": "0a9bda4e",
   "metadata": {},
   "outputs": [],
   "source": [
    "# 보행자 검출을 위한 HOG 기술자 설정\n",
    "hog = cv2.HOGDescriptor()\n",
    "hog.setSVMDetector(cv2.HOGDescriptor_getDefaultPeopleDetector())\n",
    "\n",
    "while True:\n",
    "    ret, frame = cap.read()\n",
    "    \n",
    "    if not ret:\n",
    "        break\n",
    "        \n",
    "    # 매 프레임마다 보행자 검출\n",
    "    detected, _ = hog.detectMultiScale(frame)\n",
    "    \n",
    "    # 검출 결과 화면 표시\n",
    "    for (x, y, w, h) in detected:\n",
    "        c = (random.randint(0, 255), random.randint(0, 255), random.randint(0, 255))\n",
    "        cv2.rectangle(frame, (x, y, w, h), c, 3)\n",
    "        \n",
    "    cv2.imshow('frame',frame)\n",
    "    if cv2.waitKey(10) == 27:\n",
    "        break\n",
    "        \n",
    "cv2.destroyAllWindows()\n"
   ]
  }
 ],
 "metadata": {
  "kernelspec": {
   "display_name": "Python 3 (ipykernel)",
   "language": "python",
   "name": "python3"
  },
  "language_info": {
   "codemirror_mode": {
    "name": "ipython",
    "version": 3
   },
   "file_extension": ".py",
   "mimetype": "text/x-python",
   "name": "python",
   "nbconvert_exporter": "python",
   "pygments_lexer": "ipython3",
   "version": "3.8.6"
  }
 },
 "nbformat": 4,
 "nbformat_minor": 5
}
